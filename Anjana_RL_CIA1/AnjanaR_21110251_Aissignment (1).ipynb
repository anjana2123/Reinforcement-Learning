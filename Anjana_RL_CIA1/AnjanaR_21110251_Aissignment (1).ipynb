{
 "cells": [
  {
   "cell_type": "markdown",
   "id": "792649df-dabe-484c-8271-a316355424a1",
   "metadata": {},
   "source": [
    "### R Anjana, 21110251, Reinforcement Learning Assignment"
   ]
  },
  {
   "cell_type": "code",
   "execution_count": 22,
   "id": "c3dce460-f2e7-4d06-bf48-58069f4af054",
   "metadata": {},
   "outputs": [],
   "source": [
    "import numpy as np\n",
    "import random\n",
    "import matplotlib.pyplot as plt"
   ]
  },
  {
   "cell_type": "code",
   "execution_count": 23,
   "id": "ff76c17f-153e-4d53-8b45-3f2a6bb43681",
   "metadata": {},
   "outputs": [],
   "source": [
    "class ArticleBandit:\n",
    "    def __init__(self, p, name, verbose=True):\n",
    "        self.p = p  \n",
    "        self.name = name  \n",
    "        self.views = 0  \n",
    "        self.times_pulled = 0  \n",
    "        if verbose:\n",
    "            print(f\"Creating ArticleBandit '{name}' with p = {p:.2f}\")\n",
    "    \n",
    "    def pull(self):\n",
    "        result = np.random.binomial(1, self.p)\n",
    "        self.views += result\n",
    "        self.times_pulled += 1\n",
    "        return result"
   ]
  },
  {
   "cell_type": "code",
   "execution_count": 24,
   "id": "50c38faa-6cf2-4e56-a456-8bbe39489434",
   "metadata": {},
   "outputs": [],
   "source": [
    "class MediaCompany:\n",
    "    def __init__(self, K, T, article_names, verbose=True):\n",
    "        self.T = T  \n",
    "        self.K = K  \n",
    "        self.articles = [ArticleBandit(np.random.uniform(), name, verbose) for name in article_names]\n",
    "        self.verbose = verbose\n",
    "\n",
    "    def run_stochastic(self):\n",
    "        results = np.zeros((self.T, self.K))\n",
    "        article_choice_log = [] \n",
    "        \n",
    "        for t in range(self.T):\n",
    "            k = random.randrange(self.K)  \n",
    "            reward = self.articles[k].pull()  \n",
    "            results[t, k] = reward\n",
    "            article_choice_log.append((t, self.articles[k].name, reward))\n",
    "            if self.verbose:\n",
    "                print(f\"T={t} \\t Article: '{self.articles[k].name}' \\t Views: {reward}\")\n",
    "        \n",
    "        return results, article_choice_log\n"
   ]
  },
  {
   "cell_type": "code",
   "execution_count": 25,
   "id": "c07d6188-a87f-4022-a72d-f80edce11c42",
   "metadata": {},
   "outputs": [],
   "source": [
    "# Simulation setup\n",
    "K = 3  \n",
    "T = 20  \n",
    "article_names = [\"Article A\", \"Article B\", \"Article C\"]\n"
   ]
  },
  {
   "cell_type": "code",
   "execution_count": 26,
   "id": "0dee70c7-24d1-440a-b1a2-4522ce7535ce",
   "metadata": {},
   "outputs": [
    {
     "name": "stdout",
     "output_type": "stream",
     "text": [
      "Creating ArticleBandit 'Article A' with p = 0.36\n",
      "Creating ArticleBandit 'Article B' with p = 0.90\n",
      "Creating ArticleBandit 'Article C' with p = 0.74\n",
      "T=0 \t Article: 'Article C' \t Views: 1\n",
      "T=1 \t Article: 'Article C' \t Views: 0\n",
      "T=2 \t Article: 'Article B' \t Views: 1\n",
      "T=3 \t Article: 'Article C' \t Views: 1\n",
      "T=4 \t Article: 'Article B' \t Views: 1\n",
      "T=5 \t Article: 'Article A' \t Views: 0\n",
      "T=6 \t Article: 'Article B' \t Views: 1\n",
      "T=7 \t Article: 'Article B' \t Views: 1\n",
      "T=8 \t Article: 'Article B' \t Views: 0\n",
      "T=9 \t Article: 'Article A' \t Views: 0\n",
      "T=10 \t Article: 'Article C' \t Views: 1\n",
      "T=11 \t Article: 'Article C' \t Views: 1\n",
      "T=12 \t Article: 'Article C' \t Views: 1\n",
      "T=13 \t Article: 'Article C' \t Views: 1\n",
      "T=14 \t Article: 'Article A' \t Views: 0\n",
      "T=15 \t Article: 'Article A' \t Views: 1\n",
      "T=16 \t Article: 'Article C' \t Views: 1\n",
      "T=17 \t Article: 'Article A' \t Views: 0\n",
      "T=18 \t Article: 'Article A' \t Views: 0\n",
      "T=19 \t Article: 'Article A' \t Views: 1\n"
     ]
    }
   ],
   "source": [
    "company = MediaCompany(K=K, T=T, article_names=article_names)\n",
    "results, article_choice_log = company.run_stochastic()"
   ]
  },
  {
   "cell_type": "code",
   "execution_count": 27,
   "id": "1dfe26f4-213f-4e22-9c84-7c1f9c7f99a0",
   "metadata": {},
   "outputs": [
    {
     "name": "stdout",
     "output_type": "stream",
     "text": [
      "\n",
      "Summary of Article Performances:\n",
      "'Article A' was published 7 times and got 2 views.\n",
      "'Article B' was published 5 times and got 4 views.\n",
      "'Article C' was published 8 times and got 7 views.\n",
      "\n",
      "Detailed Log of Article Choices:\n",
      "Time 0: Published 'Article C', Views: 1\n",
      "Time 1: Published 'Article C', Views: 0\n",
      "Time 2: Published 'Article B', Views: 1\n",
      "Time 3: Published 'Article C', Views: 1\n",
      "Time 4: Published 'Article B', Views: 1\n",
      "Time 5: Published 'Article A', Views: 0\n",
      "Time 6: Published 'Article B', Views: 1\n",
      "Time 7: Published 'Article B', Views: 1\n",
      "Time 8: Published 'Article B', Views: 0\n",
      "Time 9: Published 'Article A', Views: 0\n",
      "Time 10: Published 'Article C', Views: 1\n",
      "Time 11: Published 'Article C', Views: 1\n",
      "Time 12: Published 'Article C', Views: 1\n",
      "Time 13: Published 'Article C', Views: 1\n",
      "Time 14: Published 'Article A', Views: 0\n",
      "Time 15: Published 'Article A', Views: 1\n",
      "Time 16: Published 'Article C', Views: 1\n",
      "Time 17: Published 'Article A', Views: 0\n",
      "Time 18: Published 'Article A', Views: 0\n",
      "Time 19: Published 'Article A', Views: 1\n"
     ]
    }
   ],
   "source": [
    "print(\"\\nSummary of Article Performances:\")\n",
    "for article in company.articles:\n",
    "    print(f\"'{article.name}' was published {article.times_pulled} times and got {article.views} views.\")\n",
    "\n",
    "print(\"\\nDetailed Log of Article Choices:\")\n",
    "for log_entry in article_choice_log:\n",
    "    print(f\"Time {log_entry[0]}: Published '{log_entry[1]}', Views: {log_entry[2]}\")"
   ]
  },
  {
   "cell_type": "code",
   "execution_count": 28,
   "id": "c0aa93e5-31fb-4397-ac2b-fafa30246dbd",
   "metadata": {},
   "outputs": [
    {
     "data": {
      "image/png": "[encoded data removed]",
      "text/plain": [
       "<Figure size 640x480 with 1 Axes>"
      ]
     },
     "metadata": {},
     "output_type": "display_data"
    }
   ],
   "source": [
    "cumulative_views = np.cumsum(results, axis=0)\n",
    "for i, article in enumerate(company.articles):\n",
    "    plt.plot(cumulative_views[:, i], label=article.name)\n"
   ]
  },
  {
   "cell_type": "code",
   "execution_count": null,
   "id": "c2af88e0-1842-4f25-9e31-fa147412ae03",
   "metadata": {},
   "outputs": [],
   "source": []
  }
 ],
 "metadata": {
  "kernelspec": {
   "display_name": "Python 3 (ipykernel)",
   "language": "python",
   "name": "python3"
  },
  "language_info": {
   "codemirror_mode": {
    "name": "ipython",
    "version": 3
   },
   "file_extension": ".py",
   "mimetype": "text/x-python",
   "name": "python",
   "nbconvert_exporter": "python",
   "pygments_lexer": "ipython3",
   "version": "3.11.7"
  }
 },
 "nbformat": 4,
 "nbformat_minor": 5
}
